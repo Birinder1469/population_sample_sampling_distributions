{
 "cells": [
  {
   "cell_type": "markdown",
   "metadata": {},
   "source": [
    "# Lab 1:  Understanding sampling through simulation and bootstrapping\n",
    "\n",
    "In Lab 1, you will explore the concept of statistical sampling using both simulation and boostrapping approaches. You should follow the instructions in this notebook to complete the assignment. \n",
    "\n",
    "### Submission Instructions\n",
    "rubric={mechanics:3}\n",
    "- [Follow the general lab instructions](https://ubc-mds.github.io/resources_pages/general_lab_instructions/)\n",
    "- There is autograding in this lab, so please do not move or rename this file.\n",
    "\n",
    "### Code Quality\n",
    "rubric={quality:6}\n",
    "\n",
    "The code that you write for this assignment will be given one overall grade for code quality, see our code quality rubric as a guide to what we are looking for. Also, for this course (and other MDS courses that use R), we are trying to follow the tidyverse code style. There is a guide you can refer too: http://style.tidyverse.org/\n",
    "\n",
    "Each code question will also be assessed for code accuracy (i.e., does it do what it is supposed to do?)."
   ]
  },
  {
   "cell_type": "markdown",
   "metadata": {},
   "source": [
    "## Getting Started\n",
    "\n",
    "To make the autograded questions work in this lab you will need to load the testthat & digest packages. To do this, run the code below. Also, if we need any additional packages to run the code for your solutions, please edit the cell below."
   ]
  },
  {
   "cell_type": "code",
   "execution_count": 12,
   "metadata": {},
   "outputs": [],
   "source": [
    "library(testthat)\n",
    "library(digest)\n",
    "library(infer)\n",
    "library(tidyverse)\n",
    "library(repr)\n",
    "library(gridExtra)"
   ]
  },
  {
   "cell_type": "markdown",
   "metadata": {
    "deletable": false,
    "editable": false,
    "nbgrader": {
     "cell_type": "markdown",
     "checksum": "41b96a098c6e86df4a9348fa26e074f0",
     "grade": false,
     "grade_id": "cell-f75475cbf0a5c769",
     "locked": true,
     "schema_version": 2,
     "solution": false
    }
   },
   "source": [
    "## 1.0. Concepts related to sampling\n",
    "\n",
    "### Question 1.0.0.\n",
    "rubric={autograde:6}\n",
    "\n",
    "It is important for us to have language/terminology that we can use to discuss concepts related to sampling. It takes time and practice for us to commit these terms and corresponding definitions to our memory so we can build upon them later (when we learn more complex statistical concepts and tools). Let's get some more practice by matching language/terminology with their definitions.\n",
    "\n",
    "Read the mixed up table below and assign the variables in the code cell below a number to match the the term to it's correct definition. Do not put quotations around the number or include words in the answer, we are expecting `class` == `numeric`.\n",
    "\n",
    "| term |  definition |\n",
    "|----------------|------------|\n",
    "| <p align=\\\"left\\\">point estimate | <p align=\\\"left\\\">1. a quantity or a quality we collect from a given entity/object |\n",
    "| <p align=\\\"left\\\">sampling distribution | <p align=\\\"left\\\">2. a single number based on the sample of size $n$ that estimates an unknown population quantity of interest |\n",
    "| <p align=\\\"left\\\">population | <p align=\\\"left\\\">3. selecting a subset of observations from a population where the sample’s characteristics are a good representation of the population’s characteristics |\n",
    "| <p align=\\\"left\\\">inference | <p align=\\\"left\\\">4. a phenomenon that occurs if certain observations in a population have a higher chance of being sampled than others |\n",
    "| <p align=\\\"left\\\">random sampling | <p align=\\\"left\\\">5. the entire set of $N$ observations of interest |\n",
    "| <p align=\\\"left\\\">representative sampling | <p align=\\\"left\\\">6. an exhaustive enumeration/counting of all observations in the population in order to compute the population parameter’s numerical value |\n",
    "| <p align=\\\"left\\\">population parameter | <p align=\\\"left\\\">7. the process of using observed data to get a good guess of parameters or quantities of interest for the population from which the sample of observations were selected from |\n",
    "| <p align=\\\"left\\\">bias | <p align=\\\"left\\\">8. a collection of $n$ observations from a population |\n",
    "| <p align=\\\"left\\\">sample | <p align=\\\"left\\\">9. how well results of based on the sample can be extended to the population |\n",
    "| <p align=\\\"left\\\">census | <p align=\\\"left\\\">10. a distribution of a sample statistic over many random samples from a single population |\n",
    "| <p align=\\\"left\\\">generalizability | <p align=\\\"left\\\">11. collecting a sample of size $n$ of observations from the population |\n",
    "| <p align=\\\"left\\\">sampling | <p align=\\\"left\\\">12. a numerical summary value about the population |\n",
    "| <p align=\\\"left\\\">observation | <p align=\\\"left\\\">13. selecting a subset of observations from a population where each observation is equally likely to be selected at any point during the selection process|\n",
    "| <p align=\\\"left\\\">observational unit | <p align=\\\"left\\\">14.  is an entity/object from which information (a quantity or a quality) is collected |"
   ]
  },
  {
   "cell_type": "code",
   "execution_count": 2,
   "metadata": {
    "deletable": false,
    "nbgrader": {
     "cell_type": "code",
     "checksum": "b5be53b94590a2fdcdc58326186c8abf",
     "grade": false,
     "grade_id": "cell-04aab3209e3a5216",
     "locked": false,
     "schema_version": 2,
     "solution": true
    }
   },
   "outputs": [],
   "source": [
    "# assign each variable a number to match the the term to it's correct definition\n",
    "\n",
    "point_estimate <- 2\n",
    "sampling_distribution <- 10\n",
    "population <- 5\n",
    "inference <- 7\n",
    "random_sampling <- 13\n",
    "representative_sampling <- 3\n",
    "population_parameter <- 12\n",
    "bias <- 4\n",
    "sample <- 8\n",
    "census <- 6\n",
    "generalizability <- 9\n",
    "sampling <- 11\n",
    "observation <- 1\n",
    "observational_unit <- 14\n",
    "\n",
    "# your code here\n",
    "#fail() # No Answer - remove if you provide an answer"
   ]
  },
  {
   "cell_type": "code",
   "execution_count": 3,
   "metadata": {
    "deletable": false,
    "editable": false,
    "nbgrader": {
     "cell_type": "code",
     "checksum": "1d6dc8b4c48b7d7cef4ca2658419fe59",
     "grade": true,
     "grade_id": "cell-4425ff5ef36d3b6f",
     "locked": true,
     "points": 1,
     "schema_version": 2,
     "solution": false
    }
   },
   "outputs": [
    {
     "name": "stdout",
     "output_type": "stream",
     "text": [
      "[1] \"success!\"\n"
     ]
    }
   ],
   "source": [
    "test_that('variables should be assigned numeric values (do not include the definition in your answer, just the number associated with the definition)', {\n",
    "    values <- c(point_estimate, sampling_distribution, population, inference, random_sampling, representative_sampling, population_parameter, bias, sample, census, generalizability, sampling, observational_unit)\n",
    "    expect_is(values, 'numeric')\n",
    "})\n",
    "\n",
    "test_that('At least one term-definition match is incorrect', {\n",
    "    expect_equal(digest(point_estimate), 'db8e490a925a60e62212cefc7674ca02')\n",
    "    expect_equal(digest(sampling_distribution), '2522027d230e3dfe02d8b6eba1fd73e1')\n",
    "    expect_equal(digest(population), '5e338704a8e069ebd8b38ca71991cf94')\n",
    "    expect_equal(digest(inference), '90a7653d717dc1553ee564aa27b749b9')\n",
    "    expect_equal(digest(random_sampling), '709a7faa72cb6f3be79d683e234ccb25')\n",
    "    expect_equal(digest(representative_sampling), 'e5b57f323c7b3719bbaaf9f96b260d39')\n",
    "    expect_equal(digest(population_parameter), '23c80a31c0713176016e6e18d76a5f31')\n",
    "    expect_equal(digest(bias), 'dbc09cba9fe2583fb01d63c70e1555a8')\n",
    "    expect_equal(digest(sample), '4a5d7d50676e6d0ea065f445d8a5539d')\n",
    "    expect_equal(digest(census), '0aee9b78301d7ec8998971363be87c03')\n",
    "    expect_equal(digest(generalizability), '1937e7b7bc06d5dc1531976d1c355670')\n",
    "    expect_equal(digest(sampling), 'e8c6c490beabf8e7ab89dcd59a75f389')\n",
    "    expect_equal(digest(observation), '6717f2823d3202449301145073ab8719')\n",
    "    expect_equal(digest(observational_unit), 'c8f1af0c7b420d99059a2c8d079c51bf')\n",
    "})\n",
    "\n",
    "print(\"success!\")"
   ]
  },
  {
   "cell_type": "markdown",
   "metadata": {
    "deletable": false,
    "editable": false,
    "nbgrader": {
     "cell_type": "markdown",
     "checksum": "187dcb5d3bdf9cc1a9ccfc47f5ba2360",
     "grade": false,
     "grade_id": "cell-ee1bb5368e34f46d",
     "locked": true,
     "schema_version": 2,
     "solution": false
    }
   },
   "source": [
    "## 2.0. In real-life sampling\n",
    "\n",
    "In addition to commmiting the definitions of key concepts/terms to memory, we also have to be able to use this knowledge to identify these things in real-life examples. For the next 3 questions, your task is to read the paragraph and identify the \"things\" from the paragraph that match the terms/concepts listed below each.\n",
    "\n",
    "### Question 2.0.0.\n",
    "rubric={raw:6}\n",
    "\n",
    "**Real-life example:**\n",
    "\n",
    "*\"Opposition among Americans to Brett Kavanaugh, President Donald Trump’s Supreme Court nominee, has increased in the wake of his testimony last week before a U.S. Senate committee in which he defiantly denied sexual misconduct allegations, Reuters/Ipsos polling data showed on Wednesday. In the latest seven-day average in a survey of U.S. adults, 41 percent of respondents opposed Kavanaugh, 33 percent supported the conservative federal appeals court judge and 26 percent said they did not know. ... The Reuters/Ipsos poll was conducted online in English. It gathered responses from 4,057 U.S. adults, including 1,347 Republicans and 1,653 Democrats. It has a credibility interval, a measure of precision, of about 2 percentage points.\"*\n",
    "\n",
    "source: [Opposition to Kavanaugh grows after Senate hearing: Reuters/Ipsos poll](https://www.reuters.com/article/us-usa-court-kavanaugh-poll/opposition-to-kavanaugh-grows-after-senate-hearing-reuters-ipsos-poll-idUSKCN1MD27V) by Lawrence Hurley & Chris Kahn\n",
    "\n",
    "\n",
    "**From the real-life example above, identify the following:**\n",
    "\n",
    "- an observation\n",
    "- an observational unit\n",
    "- the population\n",
    "- a population parameter of interest\n",
    "- the sample\n",
    "- at least one point estimate\n",
    "\n",
    "If the actual value is known for the above, provide it. If the actual value is not known, state that."
   ]
  },
  {
   "cell_type": "markdown",
   "metadata": {
    "deletable": false,
    "nbgrader": {
     "cell_type": "markdown",
     "checksum": "2f5a0620322fb20e6add2d3ba64bd354",
     "grade": true,
     "grade_id": "cell-505180638a956986",
     "locked": false,
     "points": 0,
     "schema_version": 2,
     "solution": true
    }
   },
   "source": [
    "## Answer 2.0.0 :\n",
    "\n",
    "- an observation : Response of individuals : on opposition, support or did not know. \n",
    "- an observational unit : Each US Adult \n",
    "- the population : All US adults \n",
    "- a population parameter of interest : Proportion of US adults in opposition of Brett Kavanaugh. <br>\n",
    "- the sample : 4057 US Adults \n",
    "- at least one point estimate : 41%(+-2%) of US adults in the sample opposed the Kavanaugh. \n",
    "\n",
    "If the actual value is known for the above, provide it. If the actual value is not known, state that.\n",
    "\n"
   ]
  },
  {
   "cell_type": "markdown",
   "metadata": {
    "deletable": false,
    "editable": false,
    "nbgrader": {
     "cell_type": "markdown",
     "checksum": "c35b6cf45cb34840274259a1b7d9724e",
     "grade": false,
     "grade_id": "cell-c15e8795b1d0ebf9",
     "locked": true,
     "schema_version": 2,
     "solution": false
    }
   },
   "source": [
    "### Question 2.0.1.\n",
    "rubric={raw:6}\n",
    "\n",
    "**Real-life example:**\n",
    "\n",
    "_<ins>Average weekly earnings by sector</ins>_\n",
    "\n",
    "_Compared with July 2017, average weekly earnings increased in 6 of the 10 largest industrial sectors, led by retail trade. At the same time, earnings declined in manufacturing and were little changed in educational services, administrative and support services, and wholesale trade._\n",
    "\n",
    "...\n",
    "\n",
    "*In professional, scientific and technical services, average weekly earnings increased 3.7% to $1,387. Most of the increase was attributable to employment gains in the relatively high-paying computer systems design and related services industry. From a provincial perspective, Ontario was the leading contributor to the rise for both earnings \n",
    "and employment in the 12 months to July in this sector.*\n",
    "\n",
    "...\n",
    "\n",
    "*The Survey of Employment, Payrolls and Hours (SEPH) is produced by a combination of a census of approximately one million payroll deductions provided by the Canada Revenue Agency, and the Business Payrolls Survey, which collects data from a sample of 15,000 establishments. Federal, provincial and territorial public administration data are collected from various administrative records provided by these levels of government. The key objective of the SEPH is to provide a monthly portrait of the level of earnings and the number of jobs and hours worked by detailed industry at the national, provincial and territorial levels.*\n",
    "\n",
    "*Estimates of average weekly earnings and hours worked are based on a sample and are therefore subject to sampling variability. This analysis focuses on differences between estimates that are statistically significant at the 68% confidence level. Payroll employment estimates are based on a census of administrative data and are not subject to sampling variability.*\n",
    "\n",
    "source: [Payroll employment, earnings and hours, July 2018](https://www150.statcan.gc.ca/n1/daily-quotidien/180927/dq180927a-eng.htm?HPA=1) from Statistics Canada\n",
    "\n",
    "**From the real-life example above, identify the following:**\n",
    "\n",
    "- an observation\n",
    "- an observational unit\n",
    "- the population\n",
    "- a population parameter of interest\n",
    "- the sample\n",
    "- at least one point estimate\n",
    "\n",
    "If the actual value is known for the above, provide it. If the actual value is not known, state that. "
   ]
  },
  {
   "cell_type": "markdown",
   "metadata": {},
   "source": [
    "## Answer 2.0.1\n",
    "\n",
    "- an observation : Weekly earnings of employees \n",
    "- an observational unit : employee in the professional, scientific and technical services\n",
    "- the population : total employee base in the professional, scientific and technical services\n",
    "- a population parameter of interest : Variation of average weekly earnings for employees in professional, Scientific and technical services. \n",
    "- the sample : Actual size of the sample is not known, however it is collected by the SEPH\n",
    "- at least one point estimate : 3.7% gain to $1387 for the employees in professional, scientific and technical services\n",
    "\n",
    "If the actual value is known for the above, provide it. If the actual value is not known, state that. "
   ]
  },
  {
   "cell_type": "code",
   "execution_count": null,
   "metadata": {},
   "outputs": [],
   "source": []
  },
  {
   "cell_type": "markdown",
   "metadata": {
    "deletable": false,
    "nbgrader": {
     "cell_type": "markdown",
     "checksum": "50c8fe17721bd858f529fcfcf8660fe8",
     "grade": true,
     "grade_id": "cell-5bbe3130b8af867f",
     "locked": false,
     "points": 0,
     "schema_version": 2,
     "solution": true
    }
   },
   "source": []
  },
  {
   "cell_type": "markdown",
   "metadata": {
    "deletable": false,
    "editable": false,
    "nbgrader": {
     "cell_type": "markdown",
     "checksum": "5ac1518b288ad2c52e68999ec906b5bf",
     "grade": false,
     "grade_id": "cell-df99de4fa86c4774",
     "locked": true,
     "schema_version": 2,
     "solution": false
    }
   },
   "source": [
    "### Question 2.0.2.\n",
    "rubric={raw:6}\n",
    "\n",
    "\n",
    "**Real-life example:**\n",
    "\n",
    "*More than 100 lettuce plants were grown in pots and raised beds for six weeks. They were examined weekly for signs of damage and, at the end of the experiment, all the lettuces were harvested, weighed, and examined for signs of damage.*\n",
    "\n",
    "*Lettuces planted in the ground were found to be more susceptible to slug attack, with 5.7% eaten on average compared with 0.2% of those in pots.*\n",
    "\n",
    "...\n",
    "\n",
    "*The two main gastropods identified in the experiment were the grey field slug and the common garden snail.*\n",
    "\n",
    "source: [Home remedies 'no deterrent' against slugs and snails](https://www.bbc.com/news/science-environment-45652170)\n",
    "\n",
    "**From the real-life example above, identify the following:**\n",
    "\n",
    "- an observation\n",
    "- an observational unit\n",
    "- the population\n",
    "- a population parameter of interest\n",
    "- the sample\n",
    "- at least one point estimate\n",
    "\n",
    "If the actual value is known for the above, provide it. If the actual value is not known, state that. "
   ]
  },
  {
   "cell_type": "markdown",
   "metadata": {
    "deletable": false,
    "nbgrader": {
     "cell_type": "markdown",
     "checksum": "e0379bbbc6f50cc298dedb92831c380e",
     "grade": true,
     "grade_id": "cell-f24ccd56ea7d3509",
     "locked": false,
     "points": 0,
     "schema_version": 2,
     "solution": true
    }
   },
   "source": [
    "## Answer 2.0.2:\n",
    "\n",
    "**From the real-life example above, identify the following:**\n",
    "\n",
    "- an observation : Sign of damage \n",
    "- an observational unit : Lettuce plant planted\n",
    "- the population : All lettuce Plants in pots and ground\n",
    "- a population parameter of interest : average of damaged lettuce plants   \n",
    "- the sample : 100+ lettuce plants grown in the experiment in pots and raised beds.\n",
    "- at least one point estimate : Damage - 5.7 % of lettuce plants grown in ground affected by slug attack and 0.2 % of those in pots.\n",
    "\n",
    "If the actual value is known for the above, provide it. If the actual value is not known, state that. "
   ]
  },
  {
   "cell_type": "markdown",
   "metadata": {},
   "source": [
    "## 3.0. Virtual sampling simulation"
   ]
  },
  {
   "cell_type": "markdown",
   "metadata": {},
   "source": [
    "Now we are going to use virtual sampling simulation to get practice doing simulation in R, as well as to reinforce key things that we learned about sampling in lecture. \n",
    "\n",
    "#### Here's a human readable scenario that we will create a fake population for:\n",
    "\n",
    "Suppose you are a productivity researcher at a University and you want to understand many weekly work hours the employees in North America spend on social media sites (e.g., Facebook, Twitter, Youtube, Snapchat). So you develop a tool that measures work hours spent per week on social media sites by each employed person. You (somehow) get the tool installed on all devices (e.g., smartphones, laptops, desktops) of employed people in North America.\n",
    "\n",
    "Below we provide you with the code to create the virually simulated population data (`virtual_social_media_usage_data`) where the response variable is the number of hours spent per week on social media by each of the 1,000,000 employees. We also create an `employee_id` column with a unique number for each person in the data set."
   ]
  },
  {
   "cell_type": "code",
   "execution_count": 4,
   "metadata": {},
   "outputs": [
    {
     "data": {
      "text/html": [
       "<table>\n",
       "<thead><tr><th scope=col>employee_id</th><th scope=col>hours</th></tr></thead>\n",
       "<tbody>\n",
       "\t<tr><td>1       </td><td>1.585869</td></tr>\n",
       "\t<tr><td>2       </td><td>8.309311</td></tr>\n",
       "\t<tr><td>3       </td><td>9.423271</td></tr>\n",
       "\t<tr><td>4       </td><td>9.059235</td></tr>\n",
       "\t<tr><td>5       </td><td>4.858249</td></tr>\n",
       "\t<tr><td>6       </td><td>9.486986</td></tr>\n",
       "</tbody>\n",
       "</table>\n"
      ],
      "text/latex": [
       "\\begin{tabular}{r|ll}\n",
       " employee\\_id & hours\\\\\n",
       "\\hline\n",
       "\t 1        & 1.585869\\\\\n",
       "\t 2        & 8.309311\\\\\n",
       "\t 3        & 9.423271\\\\\n",
       "\t 4        & 9.059235\\\\\n",
       "\t 5        & 4.858249\\\\\n",
       "\t 6        & 9.486986\\\\\n",
       "\\end{tabular}\n"
      ],
      "text/markdown": [
       "\n",
       "| employee_id | hours |\n",
       "|---|---|\n",
       "| 1        | 1.585869 |\n",
       "| 2        | 8.309311 |\n",
       "| 3        | 9.423271 |\n",
       "| 4        | 9.059235 |\n",
       "| 5        | 4.858249 |\n",
       "| 6        | 9.486986 |\n",
       "\n"
      ],
      "text/plain": [
       "  employee_id hours   \n",
       "1 1           1.585869\n",
       "2 2           8.309311\n",
       "3 3           9.423271\n",
       "4 4           9.059235\n",
       "5 5           4.858249\n",
       "6 6           9.486986"
      ]
     },
     "metadata": {},
     "output_type": "display_data"
    }
   ],
   "source": [
    "# create virtual population\n",
    "set.seed(1234)\n",
    "n = 1000000;\n",
    "y1 = rnorm(n, 4, 2) ; y2 = rnorm(n, 10, 1)\n",
    "w = rbinom(n, 1, .4)\n",
    "X = w*y1 + (1-w)*y2\n",
    "virtual_social_media_usage_data <- tibble(employee_id = seq(from = 1, to = n, by = 1),\n",
    "                                           hours = X) %>% \n",
    "    filter(hours > 0) # remove negative values, because they do not make sense in the context of this scenario\n",
    "\n",
    "head(virtual_social_media_usage_data)"
   ]
  },
  {
   "cell_type": "markdown",
   "metadata": {
    "deletable": false,
    "editable": false,
    "nbgrader": {
     "cell_type": "markdown",
     "checksum": "32c121c846141b1ab8021f266ce2ddff",
     "grade": false,
     "grade_id": "cell-15d80de70bac2828",
     "locked": true,
     "schema_version": 2,
     "solution": false
    }
   },
   "source": [
    "### Question 3.0.0.\n",
    "rubric={accuracy:1,reasoning:2,viz:1}\n",
    "\n",
    "What does the population look like? Using ggplot, create a histogram from the number of hours spent per week on social media by each of the 1,000,000 employees. Save your plot to an object called `pop_dist`. Ensure that your plot has descriptive and human readable axis labels and is a reasonable size for your notebook (hint - use the `repr::options` function to do this). \n",
    "\n",
    "Also write 1-2 sentences below the plot describing the shape of the distribution, and report the mean of the population."
   ]
  },
  {
   "cell_type": "code",
   "execution_count": 5,
   "metadata": {
    "deletable": false,
    "nbgrader": {
     "cell_type": "code",
     "checksum": "d6abda1c0956a51615d5a623ad729ce3",
     "grade": true,
     "grade_id": "cell-8f6ac2ee0dcf145d",
     "locked": false,
     "points": 0,
     "schema_version": 2,
     "solution": true
    }
   },
   "outputs": [
    {
     "data": {
      "image/png": "[encoded data removed]",
      "text/plain": [
       "plot without title"
      ]
     },
     "metadata": {},
     "output_type": "display_data"
    }
   ],
   "source": [
    "# Answer 3.0.0\n",
    "set.seed(1234)\n",
    "options(repr.plot.width=5, repr.plot.height=3)\n",
    "\n",
    "#Calculated the average hours spent on social media by the population rounded upto the minutes \n",
    "avg_hours = round((mean(virtual_social_media_usage_data$hours)),2)\n",
    "\n",
    "# Plotted the Histogram (binwidth =0.5) of the hours spent by the population on social media. The mean of the population is overlayed \n",
    "(pop_dist <- virtual_social_media_usage_data %>% \n",
    "\n",
    " ggplot(aes(x=hours))+\n",
    "\n",
    " geom_histogram(binwidth=0.5) +\n",
    "\n",
    " labs(x='Hours spent on social media per week ', y = 'Number of emploees ')+\n",
    "\n",
    " geom_vline(xintercept = avg_hours,color='red')+\n",
    "\n",
    " annotate('text',x=3,y=100000,label=paste('Mean =',avg_hours))+\n",
    "\n",
    " ggtitle('Population distribution'))\n",
    "\n"
   ]
  },
  {
   "cell_type": "markdown",
   "metadata": {
    "deletable": false,
    "nbgrader": {
     "cell_type": "markdown",
     "checksum": "7a467e02021163ea259d05e7ac696e4b",
     "grade": true,
     "grade_id": "cell-97eaf827fe27dfdb",
     "locked": false,
     "points": 0,
     "schema_version": 2,
     "solution": true
    }
   },
   "source": [
    "## Answer 3.0.0: \n",
    "The population is coming from the mixture of two normal distributions in pre defined proportion. I see the output as bimodal with the centre at ~4.5 and 10 hours.The overall population mean is at 7.67 hours. "
   ]
  },
  {
   "cell_type": "markdown",
   "metadata": {},
   "source": [
    "### Question 3.0.1.\n",
    "rubric={accuracy:1,reasoning:2,viz:1}\n",
    "\n",
    "From the population take a single sample of size 100.  Using ggplot, create a histogram from the number of hours spent per week on social media by each of the employees in the sample. Save your plot to an object called `sample_dist`. Ensure that your plot has descriptive and human readable axis labels and is a reasonable size for your notebook (hint - if you used `repr::options` in a cell above and that plot size is also good for this plot, you do not need to set it again).\n",
    "\n",
    "Also write 1-2 sentences below the plot describing the shape of the sample distribution, and report the mean of the sample.\n",
    "\n",
    "*hint - use `binwidth = 0.5`*"
   ]
  },
  {
   "cell_type": "code",
   "execution_count": 6,
   "metadata": {
    "deletable": false,
    "nbgrader": {
     "cell_type": "code",
     "checksum": "00f9d0ef1b406c61667093424843b25d",
     "grade": true,
     "grade_id": "cell-da48ab842acf9fe2",
     "locked": false,
     "points": 0,
     "schema_version": 2,
     "solution": true
    }
   },
   "outputs": [
    {
     "data": {
      "image/png": "[encoded data removed]",
      "text/plain": [
       "plot without title"
      ]
     },
     "metadata": {},
     "output_type": "display_data"
    }
   ],
   "source": [
    "set.seed(1234)\n",
    "# Generated a sample of 100 size from the population \n",
    "sample_one_dist <- rep_sample_n(virtual_social_media_usage_data, size=100);\n",
    "\n",
    "# Computed the mean hours of one sample of size 100, rounded to minutes\n",
    "sample_one_dist_mean <- round(mean(sample_one_dist$hours),2)\n",
    "\n",
    "# The histogram plot (binwidth = 0.5) of the sample distribution with overlayed mean of the sample  \n",
    "(sample_dist <- sample_one_dist %>% \n",
    "\n",
    " ggplot(aes(hours))+\n",
    "\n",
    " geom_histogram(binwidth=0.5)+\n",
    "\n",
    " labs(x='Hours spent on social media per week ', y = 'Number of emploees ')+\n",
    "\n",
    " geom_vline(xintercept = sample_one_dist_mean,color='red')+\n",
    "\n",
    " annotate('text',x=3,y=15,label=paste('Mean=',sample_one_dist_mean))+\n",
    "\n",
    " ggtitle('Sample distribution'))\n",
    "\n"
   ]
  },
  {
   "cell_type": "markdown",
   "metadata": {
    "deletable": false,
    "nbgrader": {
     "cell_type": "markdown",
     "checksum": "0acb14bd0c1705a16f471f2e1fd8ab7a",
     "grade": true,
     "grade_id": "cell-7e4252dd7404c000",
     "locked": false,
     "points": 0,
     "schema_version": 2,
     "solution": true
    }
   },
   "source": [
    "## Answer 3.0.1 : \n",
    "This is a plot from just one sample chosen at random from the population. The mean will vary as we take different samples. For the sample displayed above the mean is 7.9 Hours. It is very sparse data set and hence its hard to say the actual shape of the plot is bimodal or not.\n"
   ]
  },
  {
   "cell_type": "markdown",
   "metadata": {
    "deletable": false,
    "editable": false,
    "nbgrader": {
     "cell_type": "markdown",
     "checksum": "2c2ad070e40b1ad2a67c321dc86048e8",
     "grade": false,
     "grade_id": "cell-1f112c1faa263c2f",
     "locked": true,
     "schema_version": 2,
     "solution": false
    }
   },
   "source": [
    "### Question 3.0.3.\n",
    "rubric={accuracy:2,reasoning:2,viz:1}\n",
    "\n",
    "From the population, create a sampling distribution where you take 10000 samples, each of size 100. Using ggplot, create a histogram from the means of the samples (your sample statistic). Save your plot to an object called sampling_dist. Ensure that your plot has descriptive and human readable axis labels and is a reasonable size for your notebook.\n",
    "\n",
    "Also write 1-2 sentences below the plot describing the shape of the sample distribution, and report the mean of the sampling distribution. \n",
    "\n",
    "*hint - use `binwidth = 0.1`*"
   ]
  },
  {
   "cell_type": "code",
   "execution_count": 7,
   "metadata": {
    "deletable": false,
    "nbgrader": {
     "cell_type": "code",
     "checksum": "3b86c2521a37e2eb4ac48ff0ec04b5d3",
     "grade": true,
     "grade_id": "cell-2303970d1cbfe144",
     "locked": false,
     "points": 0,
     "schema_version": 2,
     "solution": true
    }
   },
   "outputs": [
    {
     "data": {
      "text/html": [
       "0.31935935124392"
      ],
      "text/latex": [
       "0.31935935124392"
      ],
      "text/markdown": [
       "0.31935935124392"
      ],
      "text/plain": [
       "[1] 0.3193594"
      ]
     },
     "metadata": {},
     "output_type": "display_data"
    },
    {
     "data": {
      "image/png": "[encoded data removed]",
      "text/plain": [
       "plot without title"
      ]
     },
     "metadata": {},
     "output_type": "display_data"
    }
   ],
   "source": [
    "set.seed(1234)\n",
    "\n",
    "# Create the sampling distribution of 10000 samples of size 100 each\n",
    "sample_10000_dist <- rep_sample_n(virtual_social_media_usage_data, size=100, reps = 10000);\n",
    "\n",
    "# Compute the mean of each of the sample of size 100 out of the 10000 samples\n",
    "sample_10000_dist <- sample_10000_dist %>% \n",
    "group_by(replicate) %>% \n",
    "summarise(mean_10000_samples=mean(hours))\n",
    "\n",
    "# Compute the mean and sd of the sampling distribution i.e mean of the 10000 sample means(rounded to minutes) \n",
    "mean_sampling_dist <- round(mean(sample_10000_dist$mean_10000_samples),2)\n",
    "(std_sampling_dist <- sd(sample_10000_dist$mean_10000_samples))\n",
    "\n",
    "# Plot the sampling distribution overlayed by the mean of the sampling distribution \n",
    "\n",
    "(sampling_dist <- sample_10000_dist%>% \n",
    "\n",
    " ggplot(aes(mean_10000_samples))+\n",
    "\n",
    " geom_histogram(binwidth=0.1)+\n",
    "\n",
    " labs(x=' Mean Hours of 10000 samples', y = 'Sample Count ')+\n",
    "\n",
    " geom_vline(xintercept = mean_sampling_dist, color='Red')+\n",
    "\n",
    " annotate('text',x=8.5,y=1000,label=paste('Mean =',mean_sampling_dist))+\n",
    "\n",
    " ggtitle('Sampling distribution'))\n",
    "\n"
   ]
  },
  {
   "cell_type": "markdown",
   "metadata": {
    "deletable": false,
    "nbgrader": {
     "cell_type": "markdown",
     "checksum": "eb6971f1023363839a58785743347b1d",
     "grade": true,
     "grade_id": "cell-2d8dd06f501dd22f",
     "locked": false,
     "points": 0,
     "schema_version": 2,
     "solution": true
    }
   },
   "source": [
    "## Answer : \n",
    "The plot is the means of the 10000 sample means. To elaborate it is mean of 10000 samples plotted against the sample count or the number of samples which had the mean in that range/bin. I notice the normal distribution with the mean same as the population mean i.e 7.67 hours."
   ]
  },
  {
   "cell_type": "markdown",
   "metadata": {},
   "source": [
    "### Question 3.0.3.\n",
    "rubric={accuracy:1,reasoning:3,viz:1}\n",
    "\n",
    "Plot all 3 plots side-by-side in a row using `gridExtra::grid.arrange`. Below the plot discuss how they relate to each other (1-2 paragraphs). Ensure that your plot has descriptive and human readable axis labels and is a reasonable size for your notebook."
   ]
  },
  {
   "cell_type": "code",
   "execution_count": 8,
   "metadata": {
    "deletable": false,
    "nbgrader": {
     "cell_type": "code",
     "checksum": "f90857b9225da16c241c8b79c37f719c",
     "grade": true,
     "grade_id": "cell-44a85cdb983761e6",
     "locked": false,
     "points": 0,
     "schema_version": 2,
     "solution": true
    }
   },
   "outputs": [
    {
     "data": {
      "image/png": "[encoded data removed]",
      "text/plain": [
       "plot without title"
      ]
     },
     "metadata": {},
     "output_type": "display_data"
    }
   ],
   "source": [
    "\n",
    "options(repr.plot.width=10, repr.plot.height=3)\n",
    "grid.arrange(pop_dist,sample_dist,sampling_dist, ncol=3)\n"
   ]
  },
  {
   "cell_type": "markdown",
   "metadata": {},
   "source": [
    "## Answer 3.0.3: \n",
    "- The population distribution is showing the hours spent on the social media by 1000000 employees vs the count of the employees in different bins. The mean of the population distribution is 7.67 Hours.\n",
    "- The Sample distribution comprises of 100 employees and we see the hours spent on the social media by each of them. The mean for this case could vary a lot and it is 7.9 Hours for the sample above.\n",
    "- The sampling distribution shows a normal distribution with its mean same as the mean of the population. In sampling distribution we have 10000 samples of size 100 whose mean each has been computed and plotted on X axis.\n",
    "- First is the population distribution, second plot is the sample of size 100 randomly chosen out of the population. Third is the plot of the means of the 10000 samples collected out of the population where each sample is of size 100."
   ]
  },
  {
   "cell_type": "markdown",
   "metadata": {
    "deletable": false,
    "nbgrader": {
     "cell_type": "markdown",
     "checksum": "c4278dc8057a21557f2b4d449e6cc8ad",
     "grade": true,
     "grade_id": "cell-ddfb6ff193133f6d",
     "locked": false,
     "points": 0,
     "schema_version": 2,
     "solution": true
    }
   },
   "source": [
    "\n"
   ]
  },
  {
   "cell_type": "markdown",
   "metadata": {},
   "source": [
    "### Question 3.0.4.\n",
    "rubric={accuracy:3,reasoning:6,viz:1}\n",
    "\n",
    "In lecture we also explored the relationship between sample size and the shape/spread of the sampling distribution. Let's explore this again here on your own. Specifically, do the following:\n",
    "\n",
    "1. Create your own virtual population\n",
    "2. Plot and describe (in written English) the shape of your virtual population\n",
    "3. Create 3 sampling distributions, each using a different sample size. For each sampling distribution, calculate the standard error. Display that on the plot.\n",
    "4. Plot the 3 sampling distributions side-by-side\n",
    "5. In a paragraph, discuss the impact of changing sample size on the sampling distribution."
   ]
  },
  {
   "cell_type": "code",
   "execution_count": 9,
   "metadata": {},
   "outputs": [
    {
     "data": {
      "text/html": [
       "<table>\n",
       "<thead><tr><th scope=col>replicate</th><th scope=col>sample_50_prop</th></tr></thead>\n",
       "<tbody>\n",
       "\t<tr><td>1   </td><td>0.72</td></tr>\n",
       "\t<tr><td>2   </td><td>0.60</td></tr>\n",
       "\t<tr><td>3   </td><td>0.64</td></tr>\n",
       "\t<tr><td>4   </td><td>0.74</td></tr>\n",
       "\t<tr><td>5   </td><td>0.74</td></tr>\n",
       "\t<tr><td>6   </td><td>0.74</td></tr>\n",
       "</tbody>\n",
       "</table>\n"
      ],
      "text/latex": [
       "\\begin{tabular}{r|ll}\n",
       " replicate & sample\\_50\\_prop\\\\\n",
       "\\hline\n",
       "\t 1    & 0.72\\\\\n",
       "\t 2    & 0.60\\\\\n",
       "\t 3    & 0.64\\\\\n",
       "\t 4    & 0.74\\\\\n",
       "\t 5    & 0.74\\\\\n",
       "\t 6    & 0.74\\\\\n",
       "\\end{tabular}\n"
      ],
      "text/markdown": [
       "\n",
       "| replicate | sample_50_prop |\n",
       "|---|---|\n",
       "| 1    | 0.72 |\n",
       "| 2    | 0.60 |\n",
       "| 3    | 0.64 |\n",
       "| 4    | 0.74 |\n",
       "| 5    | 0.74 |\n",
       "| 6    | 0.74 |\n",
       "\n"
      ],
      "text/plain": [
       "  replicate sample_50_prop\n",
       "1 1         0.72          \n",
       "2 2         0.60          \n",
       "3 3         0.64          \n",
       "4 4         0.74          \n",
       "5 5         0.74          \n",
       "6 6         0.74          "
      ]
     },
     "metadata": {},
     "output_type": "display_data"
    },
    {
     "data": {
      "text/html": [
       "0.69995"
      ],
      "text/latex": [
       "0.69995"
      ],
      "text/markdown": [
       "0.69995"
      ],
      "text/plain": [
       "[1] 0.69995"
      ]
     },
     "metadata": {},
     "output_type": "display_data"
    },
    {
     "data": {
      "text/html": [
       "0.103"
      ],
      "text/latex": [
       "0.103"
      ],
      "text/markdown": [
       "0.103"
      ],
      "text/plain": [
       "[1] 0.103"
      ]
     },
     "metadata": {},
     "output_type": "display_data"
    },
    {
     "data": {
      "text/html": [
       "0.69994"
      ],
      "text/latex": [
       "0.69994"
      ],
      "text/markdown": [
       "0.69994"
      ],
      "text/plain": [
       "[1] 0.69994"
      ]
     },
     "metadata": {},
     "output_type": "display_data"
    },
    {
     "data": {
      "text/html": [
       "0.064"
      ],
      "text/latex": [
       "0.064"
      ],
      "text/markdown": [
       "0.064"
      ],
      "text/plain": [
       "[1] 0.064"
      ]
     },
     "metadata": {},
     "output_type": "display_data"
    },
    {
     "data": {
      "text/html": [
       "0.700038"
      ],
      "text/latex": [
       "0.700038"
      ],
      "text/markdown": [
       "0.700038"
      ],
      "text/plain": [
       "[1] 0.700038"
      ]
     },
     "metadata": {},
     "output_type": "display_data"
    },
    {
     "data": {
      "text/html": [
       "0.02"
      ],
      "text/latex": [
       "0.02"
      ],
      "text/markdown": [
       "0.02"
      ],
      "text/plain": [
       "[1] 0.02"
      ]
     },
     "metadata": {},
     "output_type": "display_data"
    },
    {
     "name": "stderr",
     "output_type": "stream",
     "text": [
      "Warning message:\n",
      "\"Removed 16 rows containing non-finite values (stat_bin).\"Warning message:\n",
      "\"Removed 2 rows containing missing values (geom_bar).\"Warning message:\n",
      "\"Removed 2 rows containing missing values (geom_bar).\"Warning message:\n",
      "\"Removed 2 rows containing missing values (geom_bar).\""
     ]
    },
    {
     "data": {
      "image/png": "[encoded data removed]",
      "text/plain": [
       "plot without title"
      ]
     },
     "metadata": {},
     "output_type": "display_data"
    },
    {
     "data": {
      "image/png": "[encoded data removed]",
      "text/plain": [
       "plot without title"
      ]
     },
     "metadata": {},
     "output_type": "display_data"
    }
   ],
   "source": [
    "set.seed(1234)\n",
    "options(repr.plot.height=3, repr.plot.width=3)\n",
    "\n",
    "# Below is the votes giving by the Indian population(100000) to the two major parties BJP and Congress.\n",
    "voter_pop <- tibble(ID=seq(1,100000,1), vote= factor(rbinom(100000,1,0.7), levels = c(1,0), labels = c('BJP','Congress')));\n",
    "\n",
    "# Plot the histogram to check the population distribution. The random Sample has been chosen from the Binomial distribution with the \n",
    "# probablity of 0.7 for the BJP.\n",
    "voter_pop %>% \n",
    "    ggplot(aes(vote))+\n",
    "    geom_bar()\n",
    "\n",
    "# Three sampling distributions created using sample size of 20 , 50 , 500\n",
    "\n",
    "voter_sample_20 <- rep_sample_n(voter_pop,size=20, reps = 1000);\n",
    "voter_sample_50 <- rep_sample_n(voter_pop,size=50, reps = 1000);\n",
    "voter_sample_500 <- rep_sample_n(voter_pop,size=500, reps = 1000);\n",
    "\n",
    "# Computed the sample proportion for each of the 1000 samples with the sample size of 20\n",
    "voter_sample_20 <- voter_sample_20 %>% \n",
    "group_by(replicate)  %>% \n",
    "summarise(sample_20_prop=mean(vote=='BJP'));\n",
    "\n",
    "# Computed the sample proportion for each of the 1000 samples with the sample size of 50\n",
    "voter_sample_50 <- voter_sample_50 %>% \n",
    "group_by(replicate)  %>% \n",
    "summarise(sample_50_prop=mean(vote=='BJP'));\n",
    "\n",
    "# Computed the sample proportion for each of the 1000 samples with the sample size of 500\n",
    "voter_sample_500  <- voter_sample_500 %>% \n",
    "group_by(replicate)  %>% \n",
    "summarise(sample_500_prop=mean(vote=='BJP'));\n",
    "\n",
    "head(voter_sample_50);\n",
    "\n",
    "# Computed the mean and standard deviation of the sampling proportion of 1000 samples of size 20 \n",
    "(avg_mean_20=mean(voter_sample_20$sample_20_prop))\n",
    "(sd_sample_20=round(sd(voter_sample_20$sample_20_prop),3))\n",
    "\n",
    "# Computed the mean and standard deviation of the sampling proportion of 1000 samples of size 50 \n",
    "(avg_mean_50=mean(voter_sample_50$sample_50_prop))\n",
    "(sd_sample_50=round(sd(voter_sample_50$sample_50_prop),3))\n",
    "\n",
    "# Computed the mean and standard deviation of the sampling proportion of 1000 samples of size 500\n",
    "(avg_mean_500=mean(voter_sample_500$sample_500_prop))\n",
    "(sd_sample_500=round(sd(voter_sample_500$sample_500_prop),3))\n",
    "\n",
    "# Plotted the sampling distribution of the sample size 20 \n",
    "plot_20 <- voter_sample_20 %>% \n",
    "ggplot(aes(sample_20_prop))+geom_histogram(bins=30)+\n",
    "geom_vline(xintercept = c(-sd_sample_20+avg_mean_20,avg_mean_20+sd_sample_20),color='red')+\n",
    "xlim(0.5,1)+xlab('BJP vote proportion ')+ggtitle('Sampling dst sample size 20')+ annotate('text', x = 0.9 ,y = 150, label=paste('SE = ' ,sd_sample_20))\n",
    "\n",
    "# Plotted the sampling distribution of the sample size 50\n",
    "plot_50 <- voter_sample_50 %>% \n",
    "ggplot(aes(sample_50_prop))+geom_histogram(bins=30)+\n",
    "geom_vline(xintercept = c(-sd_sample_50+avg_mean_50,avg_mean_50+sd_sample_50),color='red')+\n",
    "xlim(0.5,1)+xlab('BJP vote proportion ')+ggtitle('Sampling dst sample size 50')+annotate('text', x = 0.9 ,y = 100, label=paste('SE = ',sd_sample_50))       \n",
    "\n",
    "\n",
    "# Plotted the sampling distribution of the sample size 500 \n",
    "plot_500 <- voter_sample_500 %>% \n",
    "ggplot(aes(sample_500_prop))+geom_histogram(bins=30)+\n",
    "geom_vline(xintercept = c(-sd_sample_500+avg_mean_500,avg_mean_500+sd_sample_500),color='red')+\n",
    "xlim(0.5,1)+xlab('BJP vote proportion ')+ggtitle('Sampling dst sample size 500')+annotate('text', x = 0.9 ,y = 200, label=paste('SE = ',sd_sample_500))\n",
    "\n",
    "options(repr.plot.height=3, repr.plot.width=10)\n",
    "\n",
    "\n",
    "# Plotted all of these plots side by side for sample size 20, 50 and 500\n",
    "grid.arrange(plot_20,plot_50,plot_500, ncol=3)\n"
   ]
  },
  {
   "cell_type": "markdown",
   "metadata": {},
   "source": [
    "In lecture we also explored the relationship between sample size and the shape/spread of the sampling distribution. Let's explore this again here on your own. Specifically, do the following:\n",
    "\n",
    "1. Create your own virtual population\n",
    "2. Plot and describe (in written English) the shape of your virtual population\n",
    "3. Create 3 sampling distributions, each using a different sample size. For each sampling distribution, calculate the standard error. Display that on the plot.\n",
    "4. Plot the 3 sampling distributions side-by-side\n",
    "5. In a paragraph, discuss the impact of changing sample size on the sampling distribution."
   ]
  },
  {
   "cell_type": "markdown",
   "metadata": {
    "deletable": false,
    "nbgrader": {
     "cell_type": "markdown",
     "checksum": "c023d5ae743132366b05f7890cdcbe03",
     "grade": true,
     "grade_id": "cell-aee6d8031bcd0a22",
     "locked": false,
     "points": 0,
     "schema_version": 2,
     "solution": true
    }
   },
   "source": [
    "## Answer 3.0.4 : \n",
    "\n",
    "Since Elections in India are round the corner. I created a population of vote for two major parties viz. 'Congress' and 'BJP'. The population contains 100000 votes for either Congress or BJP.This was taken randomly from Binomial distribution with Vote for BJP with probability of 70%. The plot i have created is a simple barchart which shows the count of votes for each political party. We notice the BJP vote share is 70% which as expected is same as the population created from binomial distribution with 70% probability of getting BJP vote.\n",
    "\n",
    "I created 1000 the samples of size 20, 50 and 500 out of the population. I got the proportion of BJP votes for 1000 samples for each sample size. \n",
    "I notice that the sampling distribution for size 20 is more scarse. For 50 is less and for 500 it is even less scarse. From scarse i mean the variability is high for small sample size. The standard error is also very high for sample size =20 and decreases for 50 and 500. The proportion I am getting from sample size 20 is \n",
    "0.69995 and standard error is 0.1\n",
    "for sample size 50 = 0.69994 and standard error is 0.064\n",
    "and for sample size 500 : 0.700038 and standrd error is 0.02 which is minimum. Hence we noticed that as the sample size increases the standard error reduces.\n"
   ]
  },
  {
   "cell_type": "markdown",
   "metadata": {},
   "source": [
    "### Question 3.0.5. (Optional)\n",
    "rubric={accuracy:1}\n",
    "\n",
    "In Question 3.0.3. you likely violated the dry (do not repeat yourself) programming principle. Wrap some of your code from the question above in a function so that you could easily create 100 sampling distributions if asked. Demonstrate that your function works by writing unit tests using `testthat`."
   ]
  },
  {
   "cell_type": "code",
   "execution_count": 10,
   "metadata": {
    "deletable": false,
    "nbgrader": {
     "cell_type": "markdown",
     "checksum": "c0270277a59743afca7b18521567c411",
     "grade": true,
     "grade_id": "cell-ca27fd906613cc15",
     "locked": false,
     "points": 0,
     "schema_version": 2,
     "solution": true
    }
   },
   "outputs": [],
   "source": [
    "sampling_distribution <-  function (sample_size,number_of_samples) {\n",
    "   \n",
    "    set.seed(1234)\n",
    "    voter_pop <- tibble(ID=seq(1,100000,1), vote= factor(rbinom(100000,1,0.7), levels = c(1,0), labels = c('BJP','Congress')));   \n",
    "    \n",
    "    average_means_out=list();\n",
    "    voter_sample_out=list();\n",
    "    sd_sample_out=list();\n",
    "    \n",
    "    for ( i in sample_size){\n",
    "        \n",
    "    voter_sample <- rep_sample_n(voter_pop,size=i, reps = number_of_samples);\n",
    "    \n",
    "    voter_sample <- voter_sample %>% \n",
    "    group_by(replicate)  %>% \n",
    "    summarise(sample_prop=mean(vote=='BJP'));\n",
    "    \n",
    "    (average_mean=mean(voter_sample$sample_prop))\n",
    "    (sd_sample=round(sd(voter_sample$sample_prop),3))\n",
    "    \n",
    "    voter_sample_out[i] <- voter_sample\n",
    "    average_means_out[i] <- average_mean\n",
    "    sd_sample_out[i] <- sd_sample;\n",
    "}\n",
    "    \n",
    "return (list(voter_sample_out,c(average_means_out,sd_sample_out)))\n",
    "    \n",
    "}"
   ]
  },
  {
   "cell_type": "markdown",
   "metadata": {},
   "source": [
    "## 4.0. Bootstrapping\n",
    "\n",
    "### Question 4.0.0\n",
    "rubric={reasoning:6}\n",
    "\n",
    "In your own words, describe the process of generating a boostrap distribution. If it's easier to draw a picture and embed it in this notebook you can do that."
   ]
  },
  {
   "cell_type": "markdown",
   "metadata": {
    "deletable": false,
    "nbgrader": {
     "cell_type": "markdown",
     "checksum": "0b63679cc4ba8bb4ce9f79a765eb2c34",
     "grade": true,
     "grade_id": "cell-423f13bec7f159a6",
     "locked": false,
     "points": 0,
     "schema_version": 2,
     "solution": true
    }
   },
   "source": [
    "## Answer 4.0.0\n",
    "In the real life it is not practically possible to collect multiple number of samples and hence we mostly just have one sample in hand and have to bring out the information from that. Bootstrapping process uses the same sample as input and from that we randomly generate multiple samples with **repetition** of elements. Now I can generate many samples using this technique and carry out my analysis. I can compute the mean , median proportion etc for this bootstrap distribution. As we note in the questions below the parameters estimated from bootstrap distribution is quite close to the sampling distribution and even the population distribution."
   ]
  },
  {
   "cell_type": "markdown",
   "metadata": {},
   "source": [
    "### Question 4.0.1.\n",
    "rubric={accuracy:6}\n",
    "\n",
    "Take a single sample from one of your virtual sampling simulations above and call that your \"one sample\" that you collected. Use that \"one sample\" to create and visualize a bootstrap distribution using the `infer` package functions. Calculate and report the mean and the standard deviation of the bootstrap distribution."
   ]
  },
  {
   "cell_type": "code",
   "execution_count": 11,
   "metadata": {
    "deletable": false,
    "nbgrader": {
     "cell_type": "markdown",
     "checksum": "0480770b8bd8c499a506e3756daae810",
     "grade": true,
     "grade_id": "cell-f406a0484272b88f",
     "locked": false,
     "points": 0,
     "schema_version": 2,
     "solution": true
    }
   },
   "outputs": [
    {
     "ename": "ERROR",
     "evalue": "Error in parse(text = x, srcfile = src): <text>:1:6: unexpected symbol\n1: YOUR ANSWER\n         ^\n",
     "output_type": "error",
     "traceback": [
      "Error in parse(text = x, srcfile = src): <text>:1:6: unexpected symbol\n1: YOUR ANSWER\n         ^\nTraceback:\n"
     ]
    }
   ],
   "source": [
    "YOUR ANSWER HERE"
   ]
  },
  {
   "cell_type": "markdown",
   "metadata": {},
   "source": [
    "## One sample has been taken from the virtual_social media dataset we created above and bootstrapping using infer package has been done on it.  The sampling distribution and bootstrapping distribution has been compared finally."
   ]
  },
  {
   "cell_type": "code",
   "execution_count": null,
   "metadata": {},
   "outputs": [],
   "source": [
    "set.seed(5432)\n",
    "\n",
    "one_sample <- rep_sample_n(virtual_social_media_usage_data,size=100)\n",
    "one_sample$replicate=NULL\n",
    "\n",
    "bootstrap_distribution <- ungroup(one_sample) %>% \n",
    "specify(response=hours) %>% \n",
    "generate(reps=10000) %>% \n",
    "calculate(stat=c(\"mean\"))\n",
    "\n",
    "\n",
    "average_bootstrap_dist <- round(mean(bootstrap_distribution$stat),2)\n",
    "standardeviation_bootstrap_dist=sd(bootstrap_distribution$stat)\n",
    "\n",
    "(bootstrap_distribution_plot <-  bootstrap_distribution %>% visualize()+ geom_vline(xintercept = average_bootstrap_dist, colour = \"red\") +\n",
    "    annotate(\"text\", x = 8.5, y = 1500, label = c(paste('Mean=',average_bootstrap_dist)))+ggtitle('Bootstrap Distribution ')+ylab('Count')+xlab('Mean Hours'))\n",
    "\n",
    "print(paste('SD =',standardeviation_bootstrap_dist))\n",
    "print(paste('Mean ',average_bootstrap_dist))\n"
   ]
  },
  {
   "cell_type": "markdown",
   "metadata": {},
   "source": [
    "## 5.0. Comparing bootstrap and sampling distributions\n",
    "\n",
    "\n",
    "### Question 5.0.0.\n",
    "rubric={accuracy:6,reasoning:6}\n",
    "\n",
    "Visualize your boostrap and sampling distribution (from the matching virtual population) side-by-side. Discuss the similarities and differences between these distributions. Given that in reality, you will never have a sampling distribution, comment on how a boostrap distribution might be helpful for estimating a population parameter."
   ]
  },
  {
   "cell_type": "markdown",
   "metadata": {
    "deletable": false,
    "nbgrader": {
     "cell_type": "markdown",
     "checksum": "1fc73afe5325c2a53a0f8eb937c1f762",
     "grade": true,
     "grade_id": "cell-b6dc5154f0102728",
     "locked": false,
     "points": 0,
     "schema_version": 2,
     "solution": true
    }
   },
   "source": [
    "YOUR ANSWER HERE"
   ]
  },
  {
   "cell_type": "code",
   "execution_count": null,
   "metadata": {},
   "outputs": [],
   "source": [
    "options(repr.plot.height=3, repr.plot.width=10)\n",
    "\n",
    "grid.arrange(bootstrap_distribution_plot,sampling_dist, ncol=2)"
   ]
  },
  {
   "cell_type": "markdown",
   "metadata": {},
   "source": [
    "## Answer 5.0.0: \n",
    "\n",
    "Plotted them side by side and i notice very close similarity between the two distributions.It is worth noting that the bootstrap distibution created is not the actual samples that would be collected on ground but generated from the one sample with replacement. The means for both are quite close. In case we are not having the priviledge to take multiple samples we can still use the one sample create the bootstrap samples and create the distributions. Population parameters can be computed fairly confidently this way as we notice we got mean of boostrap distribution as 7.64 hours which is not ver far from the population mean of 7.67 hours. The standard deviation of the bootstrap distribution is ~ 0.3 hours  and the sd for sampling dist is ~ 0.3 hours "
   ]
  },
  {
   "cell_type": "code",
   "execution_count": null,
   "metadata": {},
   "outputs": [],
   "source": [
    "# Creating the bootstrap distribution \n",
    "\n",
    "# bootstrap_sample <- rep_sample_n(virtual_social_media_usage_data,size=1000000,replace=TRUE)\n",
    "# bootstrap_sample$replicate=NULL\n",
    "# bootstrap_sample <- ungroup(bootstrap_sample)\n",
    "# options(repr.plot.width = 10, repr.plot.height = 3) \n",
    "\n",
    "# mean_bootstrap_sample <- round(mean(bootstrap_sample$hours),3)\n",
    "# std_bootstrap_sample <- round(sd(bootstrap_sample$hours),3)\n",
    "\n",
    "# mean_virtual_sample <- round(mean(virtual_social_media_usage_data$hours),3)\n",
    "# std_virtual_sample <- round(sd(virtual_social_media_usage_data$hours),3)\n",
    "\n",
    "# virtual_social_media_usage_data_plot <- ggplot(virtual_social_media_usage_data, aes(hours)) + \n",
    "#     geom_histogram() + \n",
    "#     xlab(\" Hours\") +  \n",
    "#     geom_vline(xintercept = mean_virtual_sample, colour = \"red\") +\n",
    "#     annotate(\"text\", x = 7, y = 100000, label = mean_virtual_sample)\n",
    "\n",
    "# bootstrap_sample_plot <- ggplot(bootstrap_sample, aes(hours)) + \n",
    "#     geom_histogram() +  \n",
    "#     xlab(\" Hours\") +    \n",
    " #    geom_vline(xintercept = mean_bootstrap_sample, colour = \"red\") +\n",
    " #    annotate(\"text\", x = 7, y = 100000, label = mean_bootstrap_sample)\n",
    "\n",
    "# grid.arrange(virtual_social_media_usage_data_plot, bootstrap_sample_plot, ncol=2)\n"
   ]
  }
 ],
 "metadata": {
  "kernelspec": {
   "display_name": "R",
   "language": "R",
   "name": "ir"
  },
  "language_info": {
   "codemirror_mode": "r",
   "file_extension": ".r",
   "mimetype": "text/x-r-source",
   "name": "R",
   "pygments_lexer": "r",
   "version": "3.5.1"
  }
 },
 "nbformat": 4,
 "nbformat_minor": 2
}
